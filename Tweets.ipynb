{
  "nbformat": 4,
  "nbformat_minor": 0,
  "metadata": {
    "colab": {
      "provenance": [],
      "authorship_tag": "ABX9TyMRUo6O/sFr1aP/IBwIGMQA",
      "include_colab_link": true
    },
    "kernelspec": {
      "name": "python3",
      "display_name": "Python 3"
    },
    "language_info": {
      "name": "python"
    }
  },
  "cells": [
    {
      "cell_type": "markdown",
      "metadata": {
        "id": "view-in-github",
        "colab_type": "text"
      },
      "source": [
        "<a href=\"https://colab.research.google.com/github/Luckynirwan12/Tweets-Search-Download/blob/main/Tweets.ipynb\" target=\"_parent\"><img src=\"https://colab.research.google.com/assets/colab-badge.svg\" alt=\"Open In Colab\"/></a>"
      ]
    },
    {
      "cell_type": "markdown",
      "source": [
        "## **Tweets Search/Download**"
      ],
      "metadata": {
        "id": "AklwYQLizpgc"
      }
    },
    {
      "cell_type": "code",
      "execution_count": 1,
      "metadata": {
        "colab": {
          "base_uri": "https://localhost:8080/"
        },
        "id": "f8E78_EqoSOH",
        "outputId": "1051c64f-d382-4160-ee0f-eb9ce7bf4afb"
      },
      "outputs": [
        {
          "output_type": "stream",
          "name": "stdout",
          "text": [
            "Requirement already satisfied: tweepy in /usr/local/lib/python3.11/dist-packages (4.15.0)\n",
            "Requirement already satisfied: oauthlib<4,>=3.2.0 in /usr/local/lib/python3.11/dist-packages (from tweepy) (3.3.1)\n",
            "Requirement already satisfied: requests<3,>=2.27.0 in /usr/local/lib/python3.11/dist-packages (from tweepy) (2.32.3)\n",
            "Requirement already satisfied: requests-oauthlib<3,>=1.2.0 in /usr/local/lib/python3.11/dist-packages (from tweepy) (2.0.0)\n",
            "Requirement already satisfied: charset-normalizer<4,>=2 in /usr/local/lib/python3.11/dist-packages (from requests<3,>=2.27.0->tweepy) (3.4.2)\n",
            "Requirement already satisfied: idna<4,>=2.5 in /usr/local/lib/python3.11/dist-packages (from requests<3,>=2.27.0->tweepy) (3.10)\n",
            "Requirement already satisfied: urllib3<3,>=1.21.1 in /usr/local/lib/python3.11/dist-packages (from requests<3,>=2.27.0->tweepy) (2.4.0)\n",
            "Requirement already satisfied: certifi>=2017.4.17 in /usr/local/lib/python3.11/dist-packages (from requests<3,>=2.27.0->tweepy) (2025.7.9)\n",
            "Not just me. Not just you. Every CSKian is waiting for that one iconic post in 2025 - from the iconic player! 👑💛\n",
            "\n",
            "IT'S TIME🚶‍♂️...\n",
            "Sanju Samson Yel’loading🛐💛💥\n",
            "\n",
            " #WhistlePodu🥳 #CSK💛 #IPL https://t.co/T11WtGK7I0\n",
            "#chandigarh #mohali #panchkula #zirakpur #kharar #india #delhi #punjab #haryana #himachal  #sukhnalakechandigarh #elantemallchandigarh #RockGardenChandigarh\n",
            "#rosegardenchandigarh\n",
            "#advocteinchandigarh #ipl #viralreels #viral #indiaattackpakistan #aircrashahmedabad #worldwar3 https://t.co/YWQNSuhOnR\n",
            "#chandigarh #mohali #panchkula #zirakpur #kharar #india #delhi #punjab #haryana #himachal  #sukhnalakechandigarh #elantemallchandigarh #RockGardenChandigarh\n",
            "#rosegardenchandigarh\n",
            "#advocteinchandigarh #ipl #viralreels #viral #indiaattackpakistan #aircrashahmedabad #worldwar3 https://t.co/P0eT8II7yX\n",
            "#chandigarh #mohali #panchkula #zirakpur #kharar #india #delhi #punjab #haryana #himachal  #sukhnalakechandigarh #elantemallchandigarh #RockGardenChandigarh\n",
            "#rosegardenchandigarh\n",
            "#advocteinchandigarh #ipl #viralreels #viral #indiaattackpakistan #aircrashahmedabad #worldwar3 https://t.co/ZrTZrjdQa7\n",
            "#chandigarh #mohali #panchkula #zirakpur #kharar #india #delhi #punjab #haryana #himachal  #sukhnalakechandigarh #elantemallchandigarh #RockGardenChandigarh\n",
            "#rosegardenchandigarh\n",
            "#advocteinchandigarh #ipl #viralreels #viral #indiaattackpakistan #aircrashahmedabad #worldwar3 https://t.co/s1KznOCpoY\n",
            "#chandigarh #mohali #panchkula #zirakpur #kharar #india #delhi #punjab #haryana #himachal  #sukhnalakechandigarh #elantemallchandigarh #RockGardenChandigarh\n",
            "#rosegardenchandigarh\n",
            "#advocteinchandigarh #ipl #viralreels #viral #indiaattackpakistan #aircrashahmedabad #worldwar3 https://t.co/M6VBPlJek7\n",
            "Day -113 of asking SRH for Meet &amp; Greet event pass..@SunRisers\n",
            "\n",
            "#SRH #OrangeArmy #PlayWithFire #IPL #meetandgreet @IPL\n",
            "RT @yourfamilyverse: Repost If You Love Your MOM  L!nk !n B!o #IPL https://t.co/xFk35lm6Dh\n",
            "نور احمد سږکال د سوپر کېنګز لوبډلو لپاره عالي ثابت شوی 😍\n",
            "\n",
            " دواړو ټورنمنټونو کې د يادې لوبډلې غوره وېکټ‌اخیستونکی و 👋\n",
            " #IPL https://t.co/o8G5lroJPW\n",
            "RT @Cibi0987: #Rewind2024 ...💟\n",
            "\n",
            "Rewinds of best leaks from the  past-3️⃣\n",
            "\n",
            "Hot Random guy 💥\n",
            "\n",
            "Retweet For More Guysssss....🤗\n",
            "\n",
            "#KeerthySuresh…\n"
          ]
        }
      ],
      "source": [
        "!pip install tweepy\n",
        "\n",
        "\n",
        "access_token = \"501682241-ZG1DshytyxUIUY8FXPoH2AXaDG9d5DQlORemfAzU\"\n",
        "access_token_secret = \"mxwCYkDjgWG5qWy8ONtVs3j2lxiYSxyberVVa92jmd27z\"\n",
        "consumer_key = \"we0Drpnvc1FZNazKkiKoFWlGf\"\n",
        "consumer_secret = \"OXRvmJwM6ca9k90XMIMoktSCa5XvjNieqJivcfjbOAlmpO6RhH\"\n",
        "\n",
        "\n",
        "import os\n",
        "import tweepy as tw\n",
        "import pandas as pd\n",
        "\n",
        "\n",
        "auth = tw.OAuthHandler(consumer_key, consumer_secret)\n",
        "auth.set_access_token(access_token, access_token_secret)\n",
        "api = tw.API(auth, wait_on_rate_limit=True)\n",
        "\n",
        "\n",
        "# Define the search term and the date_since date as variables\n",
        "search_words = \"#IPL\"\n",
        "date_since = \"2022-04-16\"\n",
        "\n",
        "\n",
        "# Collect tweets\n",
        "tweets = tw.Cursor(api.search_tweets,\n",
        "              q=search_words,\n",
        "              lang=\"en\",\n",
        "              since=date_since).items(5)\n",
        "\n",
        "client = tw.Client(bearer_token=\"AAAAAAAAAAAAAAAAAAAAANMe3AEAAAAABTKARuP1i%2FAbfj6a00cLD1XPerw%3DqoBZdWuJrBGvLpaoVEDxZ51TyuC1AlfdU0rHC5ON5PsHrM31tC\")\n",
        "\n",
        "response = client.search_recent_tweets(query=\"#IPL\", max_results=10)\n",
        "\n",
        "for tweet in response.data:\n",
        "    print(tweet.text)"
      ]
    }
  ]
}